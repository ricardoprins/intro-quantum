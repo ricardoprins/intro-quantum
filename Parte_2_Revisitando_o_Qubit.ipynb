{
  "nbformat": 4,
  "nbformat_minor": 0,
  "metadata": {
    "colab": {
      "name": "Parte 2 - Revisitando o Qubit.ipynb",
      "provenance": [],
      "toc_visible": true,
      "authorship_tag": "ABX9TyPcY+JcB0wc2YBVWInZFbp5",
      "include_colab_link": true
    },
    "kernelspec": {
      "name": "python3",
      "display_name": "Python 3"
    },
    "language_info": {
      "name": "python"
    }
  },
  "cells": [
    {
      "cell_type": "markdown",
      "metadata": {
        "id": "view-in-github",
        "colab_type": "text"
      },
      "source": [
        "<a href=\"https://colab.research.google.com/github/ricardoprins/intro-quantum/blob/main/Parte_2_Revisitando_o_Qubit.ipynb\" target=\"_parent\"><img src=\"https://colab.research.google.com/assets/colab-badge.svg\" alt=\"Open In Colab\"/></a>"
      ]
    },
    {
      "cell_type": "code",
      "metadata": {
        "id": "J3E4doom82ED"
      },
      "source": [
        "# configurações iniciais\n",
        "!pip install qiskit"
      ],
      "execution_count": null,
      "outputs": []
    },
    {
      "cell_type": "markdown",
      "metadata": {
        "id": "RxE6yeHw903q"
      },
      "source": [
        "# Revisitando o Qubit "
      ]
    },
    {
      "cell_type": "markdown",
      "metadata": {
        "id": "HLuwCsTy9959"
      },
      "source": [
        "# Qubit vs. Bit parte 2 "
      ]
    },
    {
      "cell_type": "markdown",
      "metadata": {
        "id": "OGMJpGWv-F8p"
      },
      "source": [
        "# Representações e notações"
      ]
    },
    {
      "cell_type": "markdown",
      "metadata": {
        "id": "OPrR0Iwk-YPJ"
      },
      "source": [
        ""
      ]
    }
  ]
}