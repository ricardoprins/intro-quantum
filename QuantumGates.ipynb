{
  "nbformat": 4,
  "nbformat_minor": 0,
  "metadata": {
    "colab": {
      "name": "Quantum Gates.ipynb",
      "provenance": [],
      "collapsed_sections": [],
      "toc_visible": true,
      "authorship_tag": "ABX9TyNrDlShqm/99Ps5iBV9cezP"
    },
    "kernelspec": {
      "name": "python3",
      "display_name": "Python 3"
    }
  },
  "cells": [
    {
      "cell_type": "markdown",
      "metadata": {
        "id": "EA8YXCZz1CIc"
      },
      "source": [
        "\n",
        "# Intro to Quantum Computing and Quantum Logic Gates\n",
        "\n",
        "This is an introductory talk on Quantum Computing made for QPower, so it is aimed towards a public with a considerable amount of knowledge, both in programming and in math (you MUST at least know how to multiply matrices to read this). For this reason, I opted for a more hands-on, visual approach.\n",
        "\n",
        "It will just cover gate quantum computation model - there will be no annealing discussed here.\n",
        "\n",
        "I will be covering two initial topics: _general concepts_ and _quantum logic gates_. This will be done using the Qiskit (it is pronounced \"quiskit\", according to their website) library within a Python language environment.\n",
        "\n",
        "Since I will be resorting to visual aid, in case you haven't a good knowledge of the Python language, it shouldn't be something that will impact the general knowledge of the concepts/ideas behind this tutorial.\n",
        "\n",
        "The output of the cell below may be considerably big - you can just ignore it and scroll below for the main content."
      ]
    },
    {
      "cell_type": "code",
      "metadata": {
        "id": "j6Ub8b5zrPP_",
        "colab": {
          "base_uri": "https://localhost:8080/",
          "height": 1000
        },
        "outputId": "446a9363-d399-4fe3-d62f-8110afd8afa2"
      },
      "source": [
        "# Installation of the Qiskit library\n",
        "!pip install qiskit"
      ],
      "execution_count": null,
      "outputs": [
        {
          "output_type": "stream",
          "text": [
            "Collecting qiskit\n",
            "  Downloading https://files.pythonhosted.org/packages/cf/42/7aafc364f79f831df363d9058dbb745ba72dce2c4b142f2294bee46ab565/qiskit-0.21.0.tar.gz\n",
            "Collecting qiskit-terra==0.15.2\n",
            "\u001b[?25l  Downloading https://files.pythonhosted.org/packages/f5/b1/f72846fe069cc12cd2288b076aa366a0c20b6312b9d6c2535e8ea289eeee/qiskit_terra-0.15.2-cp36-cp36m-manylinux2010_x86_64.whl (8.3MB)\n",
            "\u001b[K     |████████████████████████████████| 8.3MB 2.6MB/s \n",
            "\u001b[?25hCollecting qiskit-aer==0.6.1\n",
            "\u001b[?25l  Downloading https://files.pythonhosted.org/packages/e8/76/3a52f423f9ac5adbc4353105e21b5dae3d4f8729f9baa4c6788aa7fff33c/qiskit_aer-0.6.1-cp36-cp36m-manylinux2010_x86_64.whl (16.5MB)\n",
            "\u001b[K     |████████████████████████████████| 16.5MB 255kB/s \n",
            "\u001b[?25hCollecting qiskit-ibmq-provider==0.9.0\n",
            "\u001b[?25l  Downloading https://files.pythonhosted.org/packages/d8/8d/4ce211659a04c71951f8b88b099ccadbddad35842309f78e31dbb98a9101/qiskit_ibmq_provider-0.9.0-py3-none-any.whl (170kB)\n",
            "\u001b[K     |████████████████████████████████| 174kB 56.8MB/s \n",
            "\u001b[?25hCollecting qiskit-ignis==0.4.0\n",
            "\u001b[?25l  Downloading https://files.pythonhosted.org/packages/d9/46/cad273535d470ed85378abcc757b1a26aa082dff91c8e273b212399c75ed/qiskit_ignis-0.4.0-py3-none-any.whl (172kB)\n",
            "\u001b[K     |████████████████████████████████| 174kB 57.9MB/s \n",
            "\u001b[?25hCollecting qiskit-aqua==0.7.5\n",
            "\u001b[?25l  Downloading https://files.pythonhosted.org/packages/80/86/3ba6bcfa241563c8ea82c2f48f2a9157d5b7e268896969ab49ca761b857e/qiskit_aqua-0.7.5-py3-none-any.whl (1.9MB)\n",
            "\u001b[K     |████████████████████████████████| 1.9MB 25.6MB/s \n",
            "\u001b[?25hCollecting ply>=3.10\n",
            "\u001b[?25l  Downloading https://files.pythonhosted.org/packages/a3/58/35da89ee790598a0700ea49b2a66594140f44dec458c07e8e3d4979137fc/ply-3.11-py2.py3-none-any.whl (49kB)\n",
            "\u001b[K     |████████████████████████████████| 51kB 4.2MB/s \n",
            "\u001b[?25hCollecting sympy>=1.3\n",
            "\u001b[?25l  Downloading https://files.pythonhosted.org/packages/e0/1f/8cbbf698e853019ac3dc5d60ca8f6be4ace4542b2f05f7b62949617fc98e/sympy-1.6.2-py3-none-any.whl (5.8MB)\n",
            "\u001b[K     |████████████████████████████████| 5.8MB 52.0MB/s \n",
            "\u001b[?25hCollecting retworkx>=0.4.0\n",
            "\u001b[?25l  Downloading https://files.pythonhosted.org/packages/b3/f9/febd0ce7add6e04e5757658c8a03e868c4ba27459b85c4b73755b858bf5f/retworkx-0.5.0-cp36-cp36m-manylinux2010_x86_64.whl (1.1MB)\n",
            "\u001b[K     |████████████████████████████████| 1.1MB 50.0MB/s \n",
            "\u001b[?25hRequirement already satisfied: psutil>=5 in /usr/local/lib/python3.6/dist-packages (from qiskit-terra==0.15.2->qiskit) (5.4.8)\n",
            "Requirement already satisfied: jsonschema>=2.6 in /usr/local/lib/python3.6/dist-packages (from qiskit-terra==0.15.2->qiskit) (2.6.0)\n",
            "Requirement already satisfied: numpy>=1.17 in /usr/local/lib/python3.6/dist-packages (from qiskit-terra==0.15.2->qiskit) (1.18.5)\n",
            "Requirement already satisfied: dill>=0.3 in /usr/local/lib/python3.6/dist-packages (from qiskit-terra==0.15.2->qiskit) (0.3.2)\n",
            "Collecting python-constraint>=1.4\n",
            "  Downloading https://files.pythonhosted.org/packages/37/8b/5f1bc2734ca611943e1d6733ee244238679f6410a10cd45ede55a61a8402/python-constraint-1.4.0.tar.bz2\n",
            "Collecting contextvars>=2.4; python_version < \"3.7\"\n",
            "  Downloading https://files.pythonhosted.org/packages/83/96/55b82d9f13763be9d672622e1b8106c85acb83edd7cc2fa5bc67cd9877e9/contextvars-2.4.tar.gz\n",
            "Requirement already satisfied: scipy>=1.4 in /usr/local/lib/python3.6/dist-packages (from qiskit-terra==0.15.2->qiskit) (1.4.1)\n",
            "Requirement already satisfied: python-dateutil>=2.8.0 in /usr/local/lib/python3.6/dist-packages (from qiskit-terra==0.15.2->qiskit) (2.8.1)\n",
            "Collecting fastjsonschema>=2.10\n",
            "  Downloading https://files.pythonhosted.org/packages/c7/47/e860ab658dc2da844e6fdb76b12f6b3e14fbcb62fdd04f3e1c572bca20e1/fastjsonschema-2.14.5-py3-none-any.whl\n",
            "Requirement already satisfied: networkx>=2.2; python_version > \"3.5\" in /usr/local/lib/python3.6/dist-packages (from qiskit-terra==0.15.2->qiskit) (2.5)\n",
            "Collecting pybind11>=2.4\n",
            "\u001b[?25l  Downloading https://files.pythonhosted.org/packages/89/e3/d576f6f02bc75bacbc3d42494e8f1d063c95617d86648dba243c2cb3963e/pybind11-2.5.0-py2.py3-none-any.whl (296kB)\n",
            "\u001b[K     |████████████████████████████████| 296kB 45.2MB/s \n",
            "\u001b[?25hRequirement already satisfied: cython>=0.27.1 in /usr/local/lib/python3.6/dist-packages (from qiskit-aer==0.6.1->qiskit) (0.29.21)\n",
            "Requirement already satisfied: nest-asyncio!=1.1.0,>=1.0.0 in /usr/local/lib/python3.6/dist-packages (from qiskit-ibmq-provider==0.9.0->qiskit) (1.4.0)\n",
            "Collecting websockets<8,>=7; python_version <= \"3.6\"\n",
            "\u001b[?25l  Downloading https://files.pythonhosted.org/packages/43/71/8bfa882b9c502c36e5c9ef6732969533670d2b039cbf95a82ced8f762b80/websockets-7.0-cp36-cp36m-manylinux1_x86_64.whl (63kB)\n",
            "\u001b[K     |████████████████████████████████| 71kB 6.8MB/s \n",
            "\u001b[?25hRequirement already satisfied: urllib3>=1.21.1 in /usr/local/lib/python3.6/dist-packages (from qiskit-ibmq-provider==0.9.0->qiskit) (1.24.3)\n",
            "Requirement already satisfied: requests>=2.19 in /usr/local/lib/python3.6/dist-packages (from qiskit-ibmq-provider==0.9.0->qiskit) (2.23.0)\n",
            "Collecting requests-ntlm>=1.1.0\n",
            "  Downloading https://files.pythonhosted.org/packages/03/4b/8b9a1afde8072c4d5710d9fa91433d504325821b038e00237dc8d6d833dc/requests_ntlm-1.1.0-py2.py3-none-any.whl\n",
            "Requirement already satisfied: setuptools>=40.1.0 in /usr/local/lib/python3.6/dist-packages (from qiskit-ignis==0.4.0->qiskit) (50.3.0)\n",
            "Requirement already satisfied: scikit-learn>=0.17 in /usr/local/lib/python3.6/dist-packages (from qiskit-ignis==0.4.0->qiskit) (0.22.2.post1)\n",
            "Requirement already satisfied: fastdtw in /usr/local/lib/python3.6/dist-packages (from qiskit-aqua==0.7.5->qiskit) (0.3.4)\n",
            "Collecting yfinance\n",
            "  Downloading https://files.pythonhosted.org/packages/c2/31/8b374a12b90def92a4e27d0fc595fc43635f395984e36a075244d98bd265/yfinance-0.1.54.tar.gz\n",
            "Requirement already satisfied: pandas in /usr/local/lib/python3.6/dist-packages (from qiskit-aqua==0.7.5->qiskit) (1.0.5)\n",
            "Collecting dlx\n",
            "  Downloading https://files.pythonhosted.org/packages/54/c0/b8fb5bb727e983b6f5251433ef941b48f38c65bb0bd6ec509e9185bcd406/dlx-1.0.4.tar.gz\n",
            "Collecting docplex\n",
            "\u001b[?25l  Downloading https://files.pythonhosted.org/packages/9b/76/ebf5b75a25c4357c9a4758cae7fea778dd7f282b83c2f22e150dc7e3c852/docplex-2.15.194.tar.gz (582kB)\n",
            "\u001b[K     |████████████████████████████████| 583kB 38.9MB/s \n",
            "\u001b[?25hRequirement already satisfied: h5py in /usr/local/lib/python3.6/dist-packages (from qiskit-aqua==0.7.5->qiskit) (2.10.0)\n",
            "Collecting quandl\n",
            "  Downloading https://files.pythonhosted.org/packages/1b/29/185269dbd2e2698c8098b35c52ce73a2c52cf76163e709f9f7789d03ebbb/Quandl-3.5.2-py2.py3-none-any.whl\n",
            "Requirement already satisfied: mpmath>=0.19 in /usr/local/lib/python3.6/dist-packages (from sympy>=1.3->qiskit-terra==0.15.2->qiskit) (1.1.0)\n",
            "Collecting immutables>=0.9\n",
            "\u001b[?25l  Downloading https://files.pythonhosted.org/packages/99/e0/ea6fd4697120327d26773b5a84853f897a68e33d3f9376b00a8ff96e4f63/immutables-0.14-cp36-cp36m-manylinux1_x86_64.whl (98kB)\n",
            "\u001b[K     |████████████████████████████████| 102kB 10.3MB/s \n",
            "\u001b[?25hRequirement already satisfied: six>=1.5 in /usr/local/lib/python3.6/dist-packages (from python-dateutil>=2.8.0->qiskit-terra==0.15.2->qiskit) (1.15.0)\n",
            "Requirement already satisfied: decorator>=4.3.0 in /usr/local/lib/python3.6/dist-packages (from networkx>=2.2; python_version > \"3.5\"->qiskit-terra==0.15.2->qiskit) (4.4.2)\n",
            "Requirement already satisfied: chardet<4,>=3.0.2 in /usr/local/lib/python3.6/dist-packages (from requests>=2.19->qiskit-ibmq-provider==0.9.0->qiskit) (3.0.4)\n",
            "Requirement already satisfied: idna<3,>=2.5 in /usr/local/lib/python3.6/dist-packages (from requests>=2.19->qiskit-ibmq-provider==0.9.0->qiskit) (2.10)\n",
            "Requirement already satisfied: certifi>=2017.4.17 in /usr/local/lib/python3.6/dist-packages (from requests>=2.19->qiskit-ibmq-provider==0.9.0->qiskit) (2020.6.20)\n",
            "Collecting cryptography>=1.3\n",
            "\u001b[?25l  Downloading https://files.pythonhosted.org/packages/c0/9c/647e559a6e8be493dc2a7a5d15d26cb501ca60ec299b356f23839a673a83/cryptography-3.1-cp35-abi3-manylinux2010_x86_64.whl (2.6MB)\n",
            "\u001b[K     |████████████████████████████████| 2.6MB 49.9MB/s \n",
            "\u001b[?25hCollecting ntlm-auth>=1.0.2\n",
            "  Downloading https://files.pythonhosted.org/packages/ff/84/97c550164b54942b0e908c31ef09d9469f3ba4cd7332a671e2125732f63b/ntlm_auth-1.5.0-py2.py3-none-any.whl\n",
            "Requirement already satisfied: joblib>=0.11 in /usr/local/lib/python3.6/dist-packages (from scikit-learn>=0.17->qiskit-ignis==0.4.0->qiskit) (0.16.0)\n",
            "Requirement already satisfied: multitasking>=0.0.7 in /usr/local/lib/python3.6/dist-packages (from yfinance->qiskit-aqua==0.7.5->qiskit) (0.0.9)\n",
            "Requirement already satisfied: pytz>=2017.2 in /usr/local/lib/python3.6/dist-packages (from pandas->qiskit-aqua==0.7.5->qiskit) (2018.9)\n",
            "Collecting inflection>=0.3.1\n",
            "  Downloading https://files.pythonhosted.org/packages/59/91/aa6bde563e0085a02a435aa99b49ef75b0a4b062635e606dab23ce18d720/inflection-0.5.1-py2.py3-none-any.whl\n",
            "Requirement already satisfied: more-itertools in /usr/local/lib/python3.6/dist-packages (from quandl->qiskit-aqua==0.7.5->qiskit) (8.5.0)\n",
            "Requirement already satisfied: cffi!=1.11.3,>=1.8 in /usr/local/lib/python3.6/dist-packages (from cryptography>=1.3->requests-ntlm>=1.1.0->qiskit-ibmq-provider==0.9.0->qiskit) (1.14.2)\n",
            "Requirement already satisfied: pycparser in /usr/local/lib/python3.6/dist-packages (from cffi!=1.11.3,>=1.8->cryptography>=1.3->requests-ntlm>=1.1.0->qiskit-ibmq-provider==0.9.0->qiskit) (2.20)\n",
            "Building wheels for collected packages: qiskit, python-constraint, contextvars, yfinance, dlx, docplex\n",
            "  Building wheel for qiskit (setup.py) ... \u001b[?25l\u001b[?25hdone\n",
            "  Created wheel for qiskit: filename=qiskit-0.21.0-cp36-none-any.whl size=2875 sha256=a335c5243757b5cfd444d2dd16197a0904c0676c4345e958c85a8c8e24f17f7a\n",
            "  Stored in directory: /root/.cache/pip/wheels/f3/b7/87/cdde69a6f1be1a7d01c751eaae325e306e147d3a2e1a738b44\n",
            "  Building wheel for python-constraint (setup.py) ... \u001b[?25l\u001b[?25hdone\n",
            "  Created wheel for python-constraint: filename=python_constraint-1.4.0-py2.py3-none-any.whl size=24080 sha256=fbaac1e3ae7618ad0b9b6caeb609cb0cab6d3d8029e2cfb94940bb265e21c3b1\n",
            "  Stored in directory: /root/.cache/pip/wheels/34/31/15/7b070b25d0a549d20ce2e9fe6d727471c2c61ef904720fd40c\n",
            "  Building wheel for contextvars (setup.py) ... \u001b[?25l\u001b[?25hdone\n",
            "  Created wheel for contextvars: filename=contextvars-2.4-cp36-none-any.whl size=7666 sha256=3117186132f5056676f65206744efc5279edc0196b632428df745ae664f3ba15\n",
            "  Stored in directory: /root/.cache/pip/wheels/a5/7d/68/1ebae2668bda2228686e3c1cf16f2c2384cea6e9334ad5f6de\n",
            "  Building wheel for yfinance (setup.py) ... \u001b[?25l\u001b[?25hdone\n",
            "  Created wheel for yfinance: filename=yfinance-0.1.54-py2.py3-none-any.whl size=22409 sha256=2728c3165687e25dd84fe3bd822c28102a9b8f70538ae70230cf0016ed206584\n",
            "  Stored in directory: /root/.cache/pip/wheels/f9/e3/5b/ec24dd2984b12d61e0abf26289746c2436a0e7844f26f2515c\n",
            "  Building wheel for dlx (setup.py) ... \u001b[?25l\u001b[?25hdone\n",
            "  Created wheel for dlx: filename=dlx-1.0.4-cp36-none-any.whl size=5710 sha256=4f09ae8a68687363b63651bb21d8738acadf2120151f1caf4cf82e379043f140\n",
            "  Stored in directory: /root/.cache/pip/wheels/bb/ba/15/fdd0deb104df3254912998150ba9245668db06b00af5912d1a\n",
            "  Building wheel for docplex (setup.py) ... \u001b[?25l\u001b[?25hdone\n",
            "  Created wheel for docplex: filename=docplex-2.15.194-cp36-none-any.whl size=645115 sha256=4eabfbbde22fd215152f864c29ba4e28f4df2818ec68b6180f7fde6c545d9706\n",
            "  Stored in directory: /root/.cache/pip/wheels/ce/fa/5d/8f4d5fed1b8edb72e453cb2ac6fb75c6776b49d7174eb70457\n",
            "Successfully built qiskit python-constraint contextvars yfinance dlx docplex\n",
            "Installing collected packages: ply, sympy, retworkx, python-constraint, immutables, contextvars, fastjsonschema, qiskit-terra, pybind11, qiskit-aer, websockets, cryptography, ntlm-auth, requests-ntlm, qiskit-ibmq-provider, qiskit-ignis, yfinance, dlx, docplex, inflection, quandl, qiskit-aqua, qiskit\n",
            "  Found existing installation: sympy 1.1.1\n",
            "    Uninstalling sympy-1.1.1:\n",
            "      Successfully uninstalled sympy-1.1.1\n",
            "Successfully installed contextvars-2.4 cryptography-3.1 dlx-1.0.4 docplex-2.15.194 fastjsonschema-2.14.5 immutables-0.14 inflection-0.5.1 ntlm-auth-1.5.0 ply-3.11 pybind11-2.5.0 python-constraint-1.4.0 qiskit-0.21.0 qiskit-aer-0.6.1 qiskit-aqua-0.7.5 qiskit-ibmq-provider-0.9.0 qiskit-ignis-0.4.0 qiskit-terra-0.15.2 quandl-3.5.2 requests-ntlm-1.1.0 retworkx-0.5.0 sympy-1.6.2 websockets-7.0 yfinance-0.1.54\n"
          ],
          "name": "stdout"
        }
      ]
    },
    {
      "cell_type": "code",
      "metadata": {
        "id": "eKBZ-uF7rv3m"
      },
      "source": [
        "import numpy as np\n",
        "import matplotlib.pyplot as plt\n",
        "from math import sqrt\n",
        "from qiskit import *\n",
        "from qiskit.extensions import Initialize"
      ],
      "execution_count": null,
      "outputs": []
    },
    {
      "cell_type": "markdown",
      "metadata": {
        "id": "rWOv1e4O27Wh"
      },
      "source": [
        "## Computation and Information\n",
        "\n",
        "The whole idea behind computers is totally related to the theory of information. Both fields walk together, and are very much intertwined in their progress.\n",
        "\n",
        "![intertwined.jpeg](data:image/jpeg;base64,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)\n",
        "\n",
        "So, when talking about both quantum and classical computing, we have to start from this basic standpoint: we are dealing with different ways of processing information. In this sense, we have to define what _processing_ means: \n",
        "\n",
        "$$\\text{Input } \\Longrightarrow \\text{ Output}$$\n",
        "\n",
        "When we grasp any amount of information, and handle it in any way whatsoever, with some sort of information being obtained as a result, we are _processing_ this information, or we could even say _computing_ it. In here, we will not consider notions such as transmitters, receivers and noise sources - the idea is just to understand what is meant by computing/processing information in general.\n",
        "\n",
        "But how does that helps in understanding how classical and quantum computing are different?\n",
        "\n",
        "The first difference is in the fundamental unit of information. Without diving too deep in Information Theory [(see this link to know how it all began)](http://people.math.harvard.edu/~ctm/home/text/others/shannon/entropy/entropy.pdf), let's talk a little bit about both fundamental units - the _bit_ and the _qubit_."
      ]
    },
    {
      "cell_type": "markdown",
      "metadata": {
        "id": "gzDVVtvT5ykp"
      },
      "source": [
        "## Bits and Qubits\n",
        "\n",
        "A _bit_ is the fundamental unit of information within the classical computing environment. It represents an entity capable of store two stable positions, like a relay. On and off, 0 or 1, current or no current. In vector notation:\n",
        "\n",
        "_(Note: if you know how to write Dirac notation here, please let me know!)_"
      ]
    },
    {
      "cell_type": "markdown",
      "metadata": {
        "id": "ziA8EYve__Hn"
      },
      "source": [
        "$$1 = \\begin{pmatrix} 0\\\\1 \\end{pmatrix}\\space and\\space\\space 0 = \\begin{pmatrix} 1\\\\0 \\end{pmatrix} $$"
      ]
    },
    {
      "cell_type": "code",
      "metadata": {
        "id": "X1HutAPP_rw1"
      },
      "source": [
        "zero = np.matrix('1;0')\n",
        "one = np.matrix('0;1')"
      ],
      "execution_count": null,
      "outputs": []
    },
    {
      "cell_type": "markdown",
      "metadata": {
        "id": "hMIIl1BzDaSr"
      },
      "source": [
        "### Four basic operations with bits\n",
        "\n",
        "With _bits_, there are four possible basic operations that can be done:"
      ]
    },
    {
      "cell_type": "markdown",
      "metadata": {
        "id": "_7K9093bE_R1"
      },
      "source": [
        "$$\\text{Identity:}\\space\\space {f}(x) = x$$<br>\n",
        "$$\\text{Negation:}\\space\\space {f}(x) = \\neg x$$<br>\n",
        "$$\\text{Constant-0:}\\space\\space {f}(x) = 0$$<br>\n",
        "$$\\text{Constant-1:}\\space\\space {f}(x) = 1$$<br>"
      ]
    },
    {
      "cell_type": "markdown",
      "metadata": {
        "id": "qj7nZiRIGM_x"
      },
      "source": [
        "Using the matrix notation:"
      ]
    },
    {
      "cell_type": "code",
      "metadata": {
        "id": "af95ahLcGh5D",
        "colab": {
          "base_uri": "https://localhost:8080/",
          "height": 170
        },
        "outputId": "cbc775a6-e3d5-4585-a507-04e3bdb08a3b"
      },
      "source": [
        "# Identity:\n",
        "identity = np.matrix('1 0; 0 1')\n",
        "print('The identity matrix:')\n",
        "print(identity,'\\n')\n",
        "\n",
        "# Multiplying zero by the identity matrix returns zero,\n",
        "result = identity @ zero\n",
        "print(result, '\\n')\n",
        "\n",
        "# And multiplying one by the identity matrix returns one, as expected.\n",
        "result = identity @ one\n",
        "print(result)"
      ],
      "execution_count": null,
      "outputs": [
        {
          "output_type": "stream",
          "text": [
            "The identity matrix:\n",
            "[[1 0]\n",
            " [0 1]] \n",
            "\n",
            "[[1]\n",
            " [0]] \n",
            "\n",
            "[[0]\n",
            " [1]]\n"
          ],
          "name": "stdout"
        }
      ]
    },
    {
      "cell_type": "code",
      "metadata": {
        "id": "WrTv5iCwIWVi",
        "colab": {
          "base_uri": "https://localhost:8080/",
          "height": 170
        },
        "outputId": "9f8fe72d-676b-4d57-f2a0-f1fb0fd6deb4"
      },
      "source": [
        "# Negation:\n",
        "neg = np.matrix('0 1; 1 0')\n",
        "print('The negation matrix:')\n",
        "print(neg, '\\n')\n",
        "\n",
        "# Multiplying zero by the negation matrix will return one,\n",
        "result = neg @ zero\n",
        "print(result, '\\n')\n",
        "\n",
        "# And multiplying one by the negation matrix will return zero, as expected.\n",
        "result = neg @ one\n",
        "print(result)"
      ],
      "execution_count": null,
      "outputs": [
        {
          "output_type": "stream",
          "text": [
            "The negation matrix:\n",
            "[[0 1]\n",
            " [1 0]] \n",
            "\n",
            "[[0]\n",
            " [1]] \n",
            "\n",
            "[[1]\n",
            " [0]]\n"
          ],
          "name": "stdout"
        }
      ]
    },
    {
      "cell_type": "code",
      "metadata": {
        "id": "Zt-tGN8KJooS",
        "colab": {
          "base_uri": "https://localhost:8080/",
          "height": 170
        },
        "outputId": "23a19421-651b-4ac4-f3da-2eee99635924"
      },
      "source": [
        "# Constant-0:\n",
        "c_zero = np.matrix('1 1; 0 0')\n",
        "print('The Constant-0 matrix:')\n",
        "print(c_zero, '\\n')\n",
        "\n",
        "# Multiplying zero by the Constant-0 matrix will return zero,\n",
        "result = c_zero @ zero\n",
        "print(result, '\\n')\n",
        "\n",
        "# And multiplying one by the Constant-0 matrix will also return zero, as expected.\n",
        "result = c_zero @ one\n",
        "print(result)"
      ],
      "execution_count": null,
      "outputs": [
        {
          "output_type": "stream",
          "text": [
            "The Constant-0 matrix:\n",
            "[[1 1]\n",
            " [0 0]] \n",
            "\n",
            "[[1]\n",
            " [0]] \n",
            "\n",
            "[[1]\n",
            " [0]]\n"
          ],
          "name": "stdout"
        }
      ]
    },
    {
      "cell_type": "code",
      "metadata": {
        "id": "P5UB58ePJt6I",
        "colab": {
          "base_uri": "https://localhost:8080/",
          "height": 170
        },
        "outputId": "c17e551a-dc0f-407e-a940-8938058f4de9"
      },
      "source": [
        "# Constant-1:\n",
        "c_one = np.matrix('0 0; 1 1')\n",
        "print('The Constant-1 matrix:')\n",
        "print(c_one, '\\n')\n",
        "\n",
        "# Multiplying zero by the Constant-1 matrix will return one,\n",
        "result = c_one @ zero\n",
        "print(result, '\\n')\n",
        "\n",
        "# And multiplying one by the Constant-1 matrix will also return one, as expected.\n",
        "result = c_one @ one\n",
        "print(result)"
      ],
      "execution_count": null,
      "outputs": [
        {
          "output_type": "stream",
          "text": [
            "The Constant-1 matrix:\n",
            "[[0 0]\n",
            " [1 1]] \n",
            "\n",
            "[[0]\n",
            " [1]] \n",
            "\n",
            "[[0]\n",
            " [1]]\n"
          ],
          "name": "stdout"
        }
      ]
    },
    {
      "cell_type": "markdown",
      "metadata": {
        "id": "ZLb3EsyCKzsB"
      },
      "source": [
        "### Reversible operations with bits\n",
        "\n",
        "For the purposes of our explanation here, we will define _reversible operations_ as **any _process_** (cf. the aforementioned definition of processing) **that allows the identification of the input just by knowing the operation used and the output**.\n",
        "\n",
        "E.g.: In our operations above, identity and negation are reversible, but constant-0 and constant-1 are not. \n",
        "\n",
        "So, we can have operations with bits that aren't reversible, and that isn't an issue."
      ]
    },
    {
      "cell_type": "markdown",
      "metadata": {
        "id": "90h102MyNJuZ"
      },
      "source": [
        "### Tensor Products\n",
        "\n",
        "In order to fully understand some of the next concepts, it is necessary to explain a concept that is not always taught in the regular Linear Algebra classes: Tensor Products [(for further explanation, click here)](https://www.grc.nasa.gov/www/k-12/Numbers/Math/documents/Tensors_TM2002211716.pdf).\n"
      ]
    },
    {
      "cell_type": "markdown",
      "metadata": {
        "id": "GrD-NWO2N3q4"
      },
      "source": [
        "These examples will suffice to explain how tensor products work:<br><br>\n",
        "$$\\begin{pmatrix} x_{0} \\\\ x_{1} \\end{pmatrix} \\otimes \\begin{pmatrix} y_{0} \\\\ y_{1} \\end{pmatrix} = \\begin{pmatrix} x_{0}y_{0} \\\\ x_{0}y_{1} \\\\ x_{1}y_{0} \\\\ x_{1}y_{1} \\end{pmatrix} $$\n",
        "\n",
        "\n",
        "Another example:<br><br>\n",
        "\n",
        "$$\\begin{pmatrix} x_{0} \\\\ x_{1} \\end{pmatrix} \\otimes \\begin{pmatrix} y_{0} \\\\ y_{1} \\end{pmatrix} \\otimes \\begin{pmatrix} z_{0} \\\\ z_{1} \\end{pmatrix} = \\begin{pmatrix} x_{0}y_{0}z_{0} \\\\ x_{0}y_{0}z_{1} \\\\ x_{0}y_{1}z_{0} \\\\ x_{0}y_{1}z_{1} \\\\ x_{1}y_{0}z_{0} \\\\ x_{1}y_{0}z_{1} \\\\ x_{1}y_{1}z_{0} \\\\ x_{1}y_{1}z_{1} \\end{pmatrix} $$\n"
      ]
    },
    {
      "cell_type": "markdown",
      "metadata": {
        "id": "rj1eo9DjR0Dn"
      },
      "source": [
        "### Representing multiple bits\n",
        "\n",
        "To represent multiple bit states, we use tensor products of single-bit vectors. Again, this is a simplified explanation, but this will be helpful in understanding operations with multiple bits, and it will be very useful to show the power of quantum computing.\n",
        "\n",
        "The tensored representation of multiple bits is called _product state_. This representation is very useful, because it allows factoring the product state into the individual state representations.\n",
        "\n",
        "Let's use as an example the product states for two bits:"
      ]
    },
    {
      "cell_type": "markdown",
      "metadata": {
        "id": "pJeYQgZoYB1t"
      },
      "source": [
        "$$\\text{We have four possible states for two bits:}$$\n",
        "\n",
        "$$00, 01, 10\\space or\\space 11$$:\n",
        "\n",
        "$$\\begin{pmatrix} 1 \\\\ 0 \\end{pmatrix} \\otimes \\begin{pmatrix} 1 \\\\ 0 \\end{pmatrix} = \\begin{pmatrix} 1 \\\\ 0 \\\\ 0 \\\\ 0 \\end{pmatrix} \\space\\space\\text{0 tensored with 0,}$$\n",
        "\n",
        "$$\\begin{pmatrix} 1 \\\\ 0 \\end{pmatrix} \\otimes \\begin{pmatrix} 0 \\\\ 1 \\end{pmatrix} = \\begin{pmatrix} 0 \\\\ 1 \\\\ 0 \\\\ 0 \\end{pmatrix} \\space\\space\\text{0 tensored with 1,}$$\n",
        "\n",
        "$$\\begin{pmatrix} 0 \\\\ 1 \\end{pmatrix} \\otimes \\begin{pmatrix} 1 \\\\ 0 \\end{pmatrix} = \\begin{pmatrix} 0 \\\\ 0 \\\\ 1 \\\\ 0 \\end{pmatrix} \\space\\space\\text{1 tensored with 0,}$$\n",
        "\n",
        "$$\\begin{pmatrix} 0 \\\\ 1 \\end{pmatrix} \\otimes \\begin{pmatrix} 0 \\\\ 1 \\end{pmatrix} = \\begin{pmatrix} 0 \\\\ 0 \\\\ 0 \\\\ 1 \\end{pmatrix} \\space\\space\\text{and 1 tensored with 1}$$"
      ]
    },
    {
      "cell_type": "code",
      "metadata": {
        "id": "-33wJ0Nl3qmU",
        "colab": {
          "base_uri": "https://localhost:8080/",
          "height": 340
        },
        "outputId": "111f10c1-5cb6-44cc-c330-3a44e137730e"
      },
      "source": [
        "# Displaying the same thing using NumPy:\n",
        "\n",
        "zero_zero = np.kron(zero, zero) \n",
        "zero_one = np.kron(zero, one)\n",
        "one_zero = np.kron(one, zero)\n",
        "one_one = np.kron(one, one)\n",
        "print(zero_zero,'\\n\\n', zero_one,'\\n\\n', one_zero,'\\n\\n', one_one)"
      ],
      "execution_count": null,
      "outputs": [
        {
          "output_type": "stream",
          "text": [
            "[[1]\n",
            " [0]\n",
            " [0]\n",
            " [0]] \n",
            "\n",
            " [[0]\n",
            " [1]\n",
            " [0]\n",
            " [0]] \n",
            "\n",
            " [[0]\n",
            " [0]\n",
            " [1]\n",
            " [0]] \n",
            "\n",
            " [[0]\n",
            " [0]\n",
            " [0]\n",
            " [1]]\n"
          ],
          "name": "stdout"
        }
      ]
    },
    {
      "cell_type": "markdown",
      "metadata": {
        "id": "pacbC-tLq-zm"
      },
      "source": [
        "So, if we have _2_ bytes, there are four possible _product states_.\n",
        "\n",
        "Therefore, the number of possible _product states_ with _n_ bytes will be $ 2^{n}$."
      ]
    },
    {
      "cell_type": "markdown",
      "metadata": {
        "id": "NKulxuBJsEF4"
      },
      "source": [
        "### An operation with multiple bits: CNOT\n",
        "\n",
        "Now let's talk about one of the fundamental building blocks of reversible computing: the CNOT operation.\n",
        "\n",
        "The Control-Not operation works in pairs of _bits_; one is assigned as _control_, and the other as _target_.\n",
        "\n",
        "The way this _gate_(we'll call these operations gates from now on) behaves is the following:\n",
        "\n",
        "- If the control bit is 1, then the target gets flipped\n",
        "- If the control bit is 0, then the target remains unchanged\n",
        "- The control bit never gets changed.\n",
        "- The most-significant bit (the one on the left) is control, and the other one is the target;\n",
        "\n",
        "Example:"
      ]
    },
    {
      "cell_type": "code",
      "metadata": {
        "id": "gqK8tr_gtBl5",
        "colab": {
          "base_uri": "https://localhost:8080/",
          "height": 85
        },
        "outputId": "0cce69b7-ad9c-4dc2-dc27-01a86fb5280b"
      },
      "source": [
        "cnot = np.matrix('1 0 0 0; 0 1 0 0; 0 0 0 1; 0 0 1 0')\n",
        "print(cnot)"
      ],
      "execution_count": null,
      "outputs": [
        {
          "output_type": "stream",
          "text": [
            "[[1 0 0 0]\n",
            " [0 1 0 0]\n",
            " [0 0 0 1]\n",
            " [0 0 1 0]]\n"
          ],
          "name": "stdout"
        }
      ]
    },
    {
      "cell_type": "code",
      "metadata": {
        "id": "dMHoAtjJtcJQ",
        "colab": {
          "base_uri": "https://localhost:8080/",
          "height": 238
        },
        "outputId": "717f94b3-6192-4971-fd80-95188651e17e"
      },
      "source": [
        "# CNOT on 00:\n",
        "result = cnot @ zero_zero \n",
        "print('Since the control bit is zero, the target bit remains unchanged here,\\n')\n",
        "print(result, '\\n')\n",
        "\n",
        "# CNOT on 01\n",
        "result = cnot @ zero_one\n",
        "print('and here as well.\\n')\n",
        "print(result)"
      ],
      "execution_count": null,
      "outputs": [
        {
          "output_type": "stream",
          "text": [
            "Since the control bit is zero, the target bit remains unchanged here,\n",
            "\n",
            "[[1]\n",
            " [0]\n",
            " [0]\n",
            " [0]] \n",
            "\n",
            "and here as well.\n",
            "\n",
            "[[0]\n",
            " [1]\n",
            " [0]\n",
            " [0]]\n"
          ],
          "name": "stdout"
        }
      ]
    },
    {
      "cell_type": "code",
      "metadata": {
        "id": "Zwj5wG_pvStY",
        "colab": {
          "base_uri": "https://localhost:8080/",
          "height": 238
        },
        "outputId": "674a7818-09e9-4b9c-a4a1-4b02a258d898"
      },
      "source": [
        "# CNOT on 10:\n",
        "result = cnot @ one_zero \n",
        "print('However, it gets flipped both here,\\n')\n",
        "print(result, '\\n')\n",
        "\n",
        "# CNOT on 11\n",
        "result = cnot @ one_one\n",
        "print('and here as well.\\n')\n",
        "print(result)"
      ],
      "execution_count": null,
      "outputs": [
        {
          "output_type": "stream",
          "text": [
            "However, it gets flipped both here,\n",
            "\n",
            "[[0]\n",
            " [0]\n",
            " [0]\n",
            " [1]] \n",
            "\n",
            "and here as well.\n",
            "\n",
            "[[0]\n",
            " [0]\n",
            " [1]\n",
            " [0]]\n"
          ],
          "name": "stdout"
        }
      ]
    },
    {
      "cell_type": "markdown",
      "metadata": {
        "id": "VWTdevPuwUF7"
      },
      "source": [
        "### Quantum fundamental units: _qubits_\n",
        "\n",
        "The first thing worth mentioning here is that all operations with quantum bits have to be reversible - and they are. They are also their own reverse - in other words, if you apply the same operation twice, you'll get the initial result.\n",
        "\n",
        "We can go even further here: quantum mechanics _is_ reversible, and more specifically, it is _unitary_ - this follows from Schröddinger equation, except the measurement, which is not an operation/gate (if this doesn't make sense for you, don't worry: focus on the mathematics below and you should be fine)."
      ]
    },
    {
      "cell_type": "markdown",
      "metadata": {
        "id": "ql2XRDtV1gHa"
      },
      "source": [
        "Guess what? Everything we've displayed for classical bits, so far, is similar to what we'll do for qubits! We can even boldly say that the classical bit vectors above are special cases of qubit vectors."
      ]
    },
    {
      "cell_type": "markdown",
      "metadata": {
        "id": "06gYY5YP1yhK"
      },
      "source": [
        " **Definition:**<br><br>\n",
        " A qubit is represented by a vector $\\begin{pmatrix} a \\\\ b \\end{pmatrix} : \\space a,b \\in \\mathbb{C}\\space\\space, \\lVert a\\rVert^{2} + \\lVert b\\rVert^{2} = 1$\n",
        "\n",
        "Examples: $\\begin{pmatrix} -1 \\\\ 0 \\end{pmatrix}, \\begin{pmatrix} \\frac12 \\\\ \\frac{\\sqrt3}{2} \\end{pmatrix}, \\begin{pmatrix} \\frac{1}{\\sqrt2} \\\\ \\frac{1}{\\sqrt2} \\end{pmatrix}, \\begin{pmatrix} \\frac{1}{\\sqrt2} \\\\ \\frac{-1}{\\sqrt2} \\end{pmatrix}$\n",
        "\n",
        "But with this, a question then arises: if we were considering a bit the unit capable of being either \"there or not there\" (two possible values), how come we see values different than 0 or 1 in a qubit?\n",
        "\n",
        "I'll just go ahead and say that in such cases, they're being both values at the same time!"
      ]
    },
    {
      "cell_type": "markdown",
      "metadata": {
        "id": "ObGO8B-i9QF2"
      },
      "source": [
        "### Superposition - Math explanation\n",
        "\n",
        "It is time to go ahead and start facing the complicated definitions involved with qubits. \n",
        "\n",
        "Instead of having to tackle the physical explanation of a qubit being able to be both 0 and 1 at the same time (which is actually true), let's try to stick to the math here - it is actually easier to understand this way.\n",
        "\n",
        "An important thing to understand regarding qubits is that whenever they're measured, they'll _collapse_ to a value of either 0 or 1.\n",
        "\n",
        "So, the good thing about the vector notation can be seen here: the probability of a qubit $\\begin{pmatrix} a \\\\ b  \\end{pmatrix}$ to collapse to 0 is $\\lVert a\\rVert^{2}$ and to 1, $\\lVert b\\rVert^{2}$\n",
        "\n",
        "This definition will help us to better understand the behavior of a multiple qubit system.\n"
      ]
    },
    {
      "cell_type": "markdown",
      "metadata": {
        "id": "sHJsZb3MAheI"
      },
      "source": [
        "### Multiple qubits\n",
        "\n",
        "The representation of a system with multiple qubits is similar to what we've used for classical bits: it consists of a tensor product of single qubits."
      ]
    },
    {
      "cell_type": "code",
      "metadata": {
        "id": "5k6Lj0BDBOAi",
        "colab": {
          "base_uri": "https://localhost:8080/",
          "height": 85
        },
        "outputId": "7f1834ef-f721-4064-92a3-14d66c9e3828"
      },
      "source": [
        "## Example using NumPy:\n",
        "\n",
        "# Let's take a qubit (1/sqrt(2), 1/sqrt(2)):\n",
        "qubit = np.array([[1/sqrt(2)],[1/sqrt(2)]])\n",
        "\n",
        "# Its product state is the tensor product of it by itself:\n",
        "product_state = np.kron(qubit, qubit)\n",
        "print(product_state)\n",
        "# Note that for the resulting product state, the sum of the squares of the\n",
        "# moduli will still be 1."
      ],
      "execution_count": null,
      "outputs": [
        {
          "output_type": "stream",
          "text": [
            "[[0.5]\n",
            " [0.5]\n",
            " [0.5]\n",
            " [0.5]]\n"
          ],
          "name": "stdout"
        }
      ]
    },
    {
      "cell_type": "markdown",
      "metadata": {
        "id": "VCBBYbtoCQuP"
      },
      "source": [
        "Looking to the product state above, the system has a $\\lVert\\frac12\\rVert^{2}= \\frac14 $ probability (we call this amplitude) each of collapsing to 00, 01, 10 or 11 states after being measured."
      ]
    },
    {
      "cell_type": "markdown",
      "metadata": {
        "id": "6lDFNgl4DBF1"
      },
      "source": [
        "## Quantum Gates (operations with qubits)\n",
        "\n",
        "All the operations (gates) described above for bits work for qubits, with a fundamental difference: as we've stated before, they have to be reversible.\n",
        "\n",
        "Let's start with the most important gate - the Hadamard gate."
      ]
    },
    {
      "cell_type": "markdown",
      "metadata": {
        "id": "8GrCC5qZELic"
      },
      "source": [
        "### Hadamard\n",
        "\n",
        "_From this point forward, we'll start using the Qiskit library in order to be able to display the circuit notation as well._\n",
        "\n",
        "The Hadamard gate (H-gate) takes a 0 or 1 qubit and puts it into exactly equal superposition:"
      ]
    },
    {
      "cell_type": "markdown",
      "metadata": {
        "id": "sVVjKhbCFDLy"
      },
      "source": [
        "$$ H = \\begin{pmatrix} \\frac1{\\sqrt2} \\ \\frac1{\\sqrt2} \\\\ \\frac1{\\sqrt2} \\ \\frac{-1}{\\sqrt2} \\end{pmatrix}$$"
      ]
    },
    {
      "cell_type": "code",
      "metadata": {
        "id": "iESeMFQfGjAx",
        "colab": {
          "base_uri": "https://localhost:8080/",
          "height": 102
        },
        "outputId": "6d43c949-e86a-4234-98f4-2f49b4691dcc"
      },
      "source": [
        "hadamard = np.array([[1/sqrt(2),1/sqrt(2)],[1/sqrt(2),-1/sqrt(2)]])\n",
        "\n",
        "# Applying Hadamard to qubit 0,\n",
        "result = hadamard @ zero\n",
        "print(result, '\\n')\n",
        "\n",
        "# and to qubit 1:\n",
        "result = hadamard @ one\n",
        "print(result)"
      ],
      "execution_count": null,
      "outputs": [
        {
          "output_type": "stream",
          "text": [
            "[[0.70710678]\n",
            " [0.70710678]] \n",
            "\n",
            "[[ 0.70710678]\n",
            " [-0.70710678]]\n"
          ],
          "name": "stdout"
        }
      ]
    },
    {
      "cell_type": "markdown",
      "metadata": {
        "id": "TWBMHVAXHVkr"
      },
      "source": [
        "This result shows qubit vectors in superposition, with an equal probability of collapsing into either 0 or 1. \n",
        "\n",
        "**Question**\n",
        "What happens if we apply the H-gate to one of the resulting qubits in superposition above?\n",
        "\n"
      ]
    },
    {
      "cell_type": "markdown",
      "metadata": {
        "id": "EHqs75zDuUMA"
      },
      "source": [
        "### Circuit notation\n",
        "\n",
        "One of the notations we use to represent a sequence of operations with qubits is the circuit notation.\n",
        "\n",
        "A significant advantage of the Qiskit library is to allow us to visualize these operations using this notation, as demonstrated below:"
      ]
    },
    {
      "cell_type": "code",
      "metadata": {
        "id": "ouWMhJim2Ebd",
        "colab": {
          "base_uri": "https://localhost:8080/",
          "height": 62
        },
        "outputId": "c5e5f42e-e78c-4fa4-80df-2f54093c42f5"
      },
      "source": [
        "def challengeTwo(qc, qubit):\n",
        "  qc.x(qubit)\n",
        "  qc.h(qubit)\n",
        "  qc.x(qubit)\n",
        "  qc.h(qubit)\n",
        "  qc.x(qubit)\n",
        "  return qc\n",
        "\n",
        "\n",
        "\n",
        "quantum_circuit = QuantumCircuit(1)\n",
        "initial_state = [1,0]\n",
        "initializer = Initialize(initial_state)\n",
        "initializer.label = \"init\"\n",
        "challengeTwo(quantum_circuit, 0)\n",
        "quantum_circuit.draw()\n"
      ],
      "execution_count": null,
      "outputs": [
        {
          "output_type": "execute_result",
          "data": {
            "text/html": [
              "<pre style=\"word-wrap: normal;white-space: pre;background: #fff0;line-height: 1.1;font-family: &quot;Courier New&quot;,Courier,monospace\">     ┌───┐┌───┐┌───┐┌───┐┌───┐\n",
              "q_0: ┤ X ├┤ H ├┤ X ├┤ H ├┤ X ├\n",
              "     └───┘└───┘└───┘└───┘└───┘</pre>"
            ],
            "text/plain": [
              "     ┌───┐┌───┐┌───┐┌───┐┌───┐\n",
              "q_0: ┤ X ├┤ H ├┤ X ├┤ H ├┤ X ├\n",
              "     └───┘└───┘└───┘└───┘└───┘"
            ]
          },
          "metadata": {
            "tags": []
          },
          "execution_count": 15
        }
      ]
    },
    {
      "cell_type": "markdown",
      "metadata": {
        "id": "0lgV5QH85IQk"
      },
      "source": [
        "This diagram above exhibits a sequence of operations that are performed within a given circuit (thus the name circuit notation).\n",
        "\n",
        "Particularly, in this case, from an input of a qubit 0, the following operations are being applied:\n",
        "\n",
        "\n",
        "\n",
        "1.   A Pauli-X gate (think of the negation operation for a bit) \n",
        "2.   A Hadamard gate\n",
        "3.   Another Pauli-X \n",
        "4.   Another Hadamard\n",
        "5.   Another Pauli-X\n",
        "\n",
        "\n",
        "**Question** Can you determine the outcome if the qubit is measured after these five operations?\n",
        "\n"
      ]
    },
    {
      "cell_type": "markdown",
      "metadata": {
        "id": "lhpiLH8o6tfl"
      },
      "source": [
        "### Pauli\n",
        "\n",
        "If you're somewhat familiar with Linear Algebra, you probably have heard about the Pauli matrices - a set of three 2x2 matrices that are both Hermitian and unitary (you can totally ignore that if you didn't get it, that's fine as well).\n",
        "\n",
        "Let's start with the one that was mentioned in the previous section, the Pauli-X gate (and it's totally fine to just refer to it as X gate):\n"
      ]
    },
    {
      "cell_type": "markdown",
      "metadata": {
        "id": "3hSEm_U58-fx"
      },
      "source": [
        "####Pauli X\n",
        "\n",
        "\n",
        "$$ X = \\begin{pmatrix} 0 \\ 1 \\\\ 1 \\ 0 \\end{pmatrix}$$"
      ]
    },
    {
      "cell_type": "markdown",
      "metadata": {
        "id": "_Pz1VvY_9L9V"
      },
      "source": [
        "It is the same matrix used for the negation gate in a bit, right? So, let's observe it with a qubit:"
      ]
    },
    {
      "cell_type": "code",
      "metadata": {
        "id": "_xdDNJSM9cWz",
        "colab": {
          "base_uri": "https://localhost:8080/",
          "height": 268
        },
        "outputId": "10823df0-c4c6-458f-8aab-e5b375aae262"
      },
      "source": [
        "from qiskit.visualization import plot_bloch_multivector\n",
        "\n",
        "# Let's design a circuit with a single qubit initialized in the\n",
        "# 0 state and apply an X-gate to it:\n",
        "\n",
        "qc = QuantumCircuit(1)\n",
        "qc.x(0)\n",
        "\n",
        "# This sphere below is called the Bloch sphere, and it is used to\n",
        "# represent qubits. As seen below, that's where the qubit \"lands at\"\n",
        "# after passing through the circuit:\n",
        "backend = Aer.get_backend('statevector_simulator')\n",
        "output = execute(qc, backend).result().get_statevector()\n",
        "plot_bloch_multivector(output)"
      ],
      "execution_count": null,
      "outputs": [
        {
          "output_type": "execute_result",
          "data": {
            "image/png": "[encoded data removed]",
            "text/plain": [
              "<Figure size 288x288 with 1 Axes>"
            ]
          },
          "metadata": {
            "tags": []
          },
          "execution_count": 16
        }
      ]
    },
    {
      "cell_type": "markdown",
      "metadata": {
        "id": "BcJ1Gogn_jcx"
      },
      "source": [
        "As expected, the resulting state is 1, as expected: a rotation of $\\pi$ radians around the _x_ axis of the sphere.\n",
        "\n",
        "You'll also see this gate being called as the _NOT_-gate."
      ]
    },
    {
      "cell_type": "markdown",
      "metadata": {
        "id": "FAOCkAwbArj1"
      },
      "source": [
        "#### Pauli Y\n",
        "\n",
        "Similarly to the X-gate, this one will rotate a qubit $\\pi$ radians around the _y_ axis of the sphere:"
      ]
    },
    {
      "cell_type": "markdown",
      "metadata": {
        "id": "V3cG_q9EA8S2"
      },
      "source": [
        "$$ Y = \\begin{pmatrix} 0 \\ -i \\\\ i \\ 0 \\end{pmatrix}$$"
      ]
    },
    {
      "cell_type": "markdown",
      "metadata": {
        "id": "RyHkYtQAFqGp"
      },
      "source": [
        "#### Pauli Z\n",
        "\n",
        "As you've probably guessed, the Z-gate rotates a qubit $\\pi$ radians around the _z_ axis:"
      ]
    },
    {
      "cell_type": "markdown",
      "metadata": {
        "id": "SjKyb-JGF0wR"
      },
      "source": [
        "$$ Z = \\begin{pmatrix} 1 \\ 0 \\\\ 0 \\ {-1} \\end{pmatrix}$$\n"
      ]
    },
    {
      "cell_type": "markdown",
      "metadata": {
        "id": "UbFlF11rGwxv"
      },
      "source": [
        "### $R_\\phi$ (or $R_z$)\n",
        "\n",
        "The $R_\\phi$ gate is a parametrized gate that performs a rotation of $\\phi$ degrees along the Z-axis:\n"
      ]
    },
    {
      "cell_type": "markdown",
      "metadata": {
        "id": "0QaZlXf0HbTY"
      },
      "source": [
        "$$ R_\\phi = \\begin{pmatrix} 1 \\ 0 \\\\ 0 \\ e^{i\\phi} \\end{pmatrix} , with \\space\\space \\phi \\in \\mathbb R $$"
      ]
    },
    {
      "cell_type": "markdown",
      "metadata": {
        "id": "rhG0uk_ZIlef"
      },
      "source": [
        "### Identity\n",
        "\n",
        "The I-gate (Identity) does exactly what's expected of it: nothing. Still, it has some applications that won't be discussed here."
      ]
    },
    {
      "cell_type": "markdown",
      "metadata": {
        "id": "3HFxmdZfI-DR"
      },
      "source": [
        "### T\n",
        "\n",
        "The T-gate is an $R_\\phi$ gate with $\\phi = \\frac{\\pi}{4}$:"
      ]
    },
    {
      "cell_type": "markdown",
      "metadata": {
        "id": "XlrvfWMsJior"
      },
      "source": [
        "$$ T = \\begin{pmatrix} 1 \\ 0 \\\\ 0 \\ e^{i\\frac{\\pi}{4}} \\end{pmatrix} \\text{and } T\\dagger = \\begin{pmatrix} 1 \\ 0 \\\\ 0 \\ e^{-i\\frac{\\pi}{4}} \\end{pmatrix}$$ "
      ]
    },
    {
      "cell_type": "markdown",
      "metadata": {
        "id": "TGb_bX8lKHIp"
      },
      "source": [
        "### S\n",
        "\n",
        "The S-gate is an $R\\phi$ gate with $\\phi = \\frac{\\pi}{2}:$"
      ]
    },
    {
      "cell_type": "markdown",
      "metadata": {
        "id": "MGnVrZz2KaoU"
      },
      "source": [
        "$$ S = \\begin{pmatrix} 1 \\ 0 \\\\ 0 \\ e^{i\\frac{\\pi}{2}} \\end{pmatrix} \\text{and } S\\dagger = \\begin{pmatrix} 1 \\ 0 \\\\ 0 \\ e^{-i\\frac{\\pi}{2}} \\end{pmatrix}$$ "
      ]
    },
    {
      "cell_type": "markdown",
      "metadata": {
        "id": "OXVol9MWKmjt"
      },
      "source": [
        "It is worth noting that applying two S-gates is, as expected, equivalent to applying a Z-gate."
      ]
    },
    {
      "cell_type": "markdown",
      "metadata": {
        "id": "JmJy_HqAKzaN"
      },
      "source": [
        "### $U_3$\n",
        "\n",
        "All gates shown above can be considered special cases of the $U_3$ gate. It is hardly seen on diagrams, due to the many intricacies that would be involved in using it:"
      ]
    },
    {
      "cell_type": "markdown",
      "metadata": {
        "id": "7JS9XjCQK015"
      },
      "source": [
        "$$ U_3(\\theta,\\phi,\\lambda) = \\begin{pmatrix} \\cos(\\frac\\theta2) \\ -e^{i\\lambda}\\sin(\\frac\\theta2) \\\\ e^{i\\phi}\\sin(\\frac\\theta2) \\ e^{i\\phi+i\\theta}\\cos(\\frac\\theta2) \\end{pmatrix}$$"
      ]
    },
    {
      "cell_type": "markdown",
      "metadata": {
        "id": "jd9kCBFRMa8d"
      },
      "source": [
        "There are two special cases: $U_1$ and $U_2$:\n",
        "\n",
        "The $U_1$ gate is equivalent to the $R_\\phi$ gate.\n",
        "\n",
        "All single-qubit operations on Qiskit are compiled down to $U_1$, $U_2$, and $U_3$ gates before running on real IBM quantum hardware, and for that reason they are sometimes referred to as _physical gates_.\n",
        "\n",
        "It should be obvious from this that there are an infinite number of possible gates, and that this also includes Rx and Ry-gates, although they are not mentioned here. It must also be noted that there is nothing special about the Z-basis, except that it has been selected as the standard computational basis. That is why we have names for the S and T-gates, but not their X and Y equivalents."
      ]
    }
  ]
}